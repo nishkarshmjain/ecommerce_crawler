{
 "cells": [
  {
   "cell_type": "code",
   "execution_count": 6,
   "metadata": {},
   "outputs": [],
   "source": [
    "import pandas as pd\n",
    "pd.set_option('display.max_rows', 500 ,'display.max_columns' ,500)\n",
    "df=pd.read_csv(\"matchesfashion.csv\")"
   ]
  },
  {
   "cell_type": "code",
   "execution_count": 9,
   "metadata": {},
   "outputs": [
    {
     "data": {
      "text/plain": [
       "0    //assetsprx.matchesfashion.com/img/product/135...\n",
       "1    //assetsprx.matchesfashion.com/img/product/135...\n",
       "2    //assetsprx.matchesfashion.com/img/product/135...\n",
       "3    //assetsprx.matchesfashion.com/img/product/136...\n",
       "4    //assetsprx.matchesfashion.com/img/product/135...\n",
       "5    //assetsprx.matchesfashion.com/img/product/135...\n",
       "Name: Image_Url, dtype: object"
      ]
     },
     "execution_count": 9,
     "metadata": {},
     "output_type": "execute_result"
    }
   ],
   "source": [
    "df['Image_Url']"
   ]
  },
  {
   "cell_type": "code",
   "execution_count": null,
   "metadata": {},
   "outputs": [],
   "source": []
  }
 ],
 "metadata": {
  "kernelspec": {
   "display_name": "Python 3",
   "language": "python",
   "name": "python3"
  },
  "language_info": {
   "codemirror_mode": {
    "name": "ipython",
    "version": 3
   },
   "file_extension": ".py",
   "mimetype": "text/x-python",
   "name": "python",
   "nbconvert_exporter": "python",
   "pygments_lexer": "ipython3",
   "version": "3.7.6"
  }
 },
 "nbformat": 4,
 "nbformat_minor": 4
}
